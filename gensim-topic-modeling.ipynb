{
 "cells": [
  {
   "cell_type": "markdown",
   "id": "4244eee6",
   "metadata": {},
   "source": [
    "# Topic Modeling with gensim"
   ]
  },
  {
   "cell_type": "code",
   "execution_count": 1,
   "id": "087da0ff",
   "metadata": {},
   "outputs": [],
   "source": [
    "import numpy as np\n",
    "import pandas as pd\n",
    "import re\n",
    "\n",
    "import gensim\n",
    "import gensim.corpora as corpora\n",
    "from gensim.utils import simple_preprocess\n",
    "from gensim.models import CoherenceModel\n",
    "\n",
    "import spacy\n",
    "import nltk\n",
    "from nltk.corpus import stopwords\n",
    "\n",
    "import pyLDAvis\n",
    "import pyLDAvis.gensim_models\n",
    "\n",
    "import warnings\n",
    "warnings.filterwarnings('ignore')"
   ]
  },
  {
   "cell_type": "code",
   "execution_count": 2,
   "id": "687d389f",
   "metadata": {},
   "outputs": [],
   "source": [
    "# load all the dataframes\n",
    "country_df = pd.read_csv('data/Country-lyrics.csv', index_col=0)\n",
    "hip_hop_df = pd.read_csv('data/Hip-Hop-Rnb-lyrics.csv', index_col=0)\n",
    "pop_df = pd.read_csv('data/pop-lyrics.csv', index_col=0)\n",
    "christian_df = pd.read_csv('data/Christian-lyrics.csv', index_col=0)\n",
    "electro_df = pd.read_csv('data/Electro-lyrics.csv', index_col=0)\n",
    "rock_df = pd.read_csv('data/Rock-lyrics.csv', index_col=0)"
   ]
  },
  {
   "cell_type": "code",
   "execution_count": 3,
   "id": "dac99cca",
   "metadata": {},
   "outputs": [],
   "source": [
    "# empyty list for documents\n",
    "documents = []"
   ]
  },
  {
   "cell_type": "code",
   "execution_count": 4,
   "id": "38fbed5d",
   "metadata": {},
   "outputs": [],
   "source": [
    "# choose a genre to analyze. for example 'country_df' for country music\n",
    "genre = rock_df"
   ]
  },
  {
   "cell_type": "code",
   "execution_count": 5,
   "id": "e220413b",
   "metadata": {},
   "outputs": [],
   "source": [
    "# move the words out of pandas dataframe into a list of documents\n",
    "for key, values in genre.groupby(['artist', 'title', 'year']):\n",
    "    documents.append(values['word'].astype('str').values)\n",
    "\n",
    "documents = [' '.join(doc) for doc in documents]"
   ]
  },
  {
   "cell_type": "code",
   "execution_count": 6,
   "id": "f6429ce1",
   "metadata": {},
   "outputs": [],
   "source": [
    "# remove song title and 'lyrics' from start of each document\n",
    "# remove 'embed' that is at the end of each document\n",
    "# remove punctuation but keep apostrophes\n",
    "documents = [re.sub(\"\\d{1,4}Embed|Embed|^.*?(Lyrics)|[^\\w\\d'\\s]+\" , '', doc) for doc in documents]"
   ]
  },
  {
   "cell_type": "code",
   "execution_count": 7,
   "id": "fe7ada68",
   "metadata": {},
   "outputs": [],
   "source": [
    "stopwords = stopwords.words('english')"
   ]
  },
  {
   "cell_type": "code",
   "execution_count": 8,
   "id": "30c51aee",
   "metadata": {},
   "outputs": [],
   "source": [
    "# lemmatize the documents\n",
    "def lemmatization(documents, allowed_postags=[\"NOUN\", \"ADJ\", \"VERB\", \"ADV\"]):\n",
    "    nlp = spacy.load(\"en_core_web_sm\", disable=[\"parser\", \"ner\"])\n",
    "    texts_out = []\n",
    "    for text in documents:\n",
    "        doc = nlp(text)\n",
    "        new_text = []\n",
    "        for token in doc:\n",
    "            if token.pos_ in allowed_postags:\n",
    "                new_text.append(token.lemma_)\n",
    "        final = \" \".join(new_text)\n",
    "        texts_out.append(final)\n",
    "    return (texts_out)\n",
    "\n",
    "lemmatized_documents = lemmatization(documents)"
   ]
  },
  {
   "cell_type": "code",
   "execution_count": 9,
   "id": "4353710c",
   "metadata": {},
   "outputs": [],
   "source": [
    "# convert words into tokens\n",
    "def gen_words(texts):\n",
    "    final = []\n",
    "    for text in texts:\n",
    "        new = gensim.utils.simple_preprocess(text, deacc=True)\n",
    "        final.append(new)\n",
    "    return (final)\n",
    "\n",
    "data_words = gen_words(lemmatized_documents)"
   ]
  },
  {
   "cell_type": "code",
   "execution_count": 10,
   "id": "ecf92f1e",
   "metadata": {},
   "outputs": [],
   "source": [
    "# ngrams\n",
    "bigrams_phrases = gensim.models.Phrases(data_words, min_count=5, threshold=100)\n",
    "trigrams_phrases = gensim.models.Phrases(bigrams_phrases[data_words], threshold=100)\n",
    "\n",
    "bigram = gensim.models.phrases.Phraser(bigrams_phrases)\n",
    "trigram = gensim.models.phrases.Phraser(trigrams_phrases)\n",
    "\n",
    "def make_bigrams(documents):\n",
    "    return([bigram[doc] for doc in documents])\n",
    "\n",
    "def make_trigrams(documents):\n",
    "    return ([trigram[bigram[doc]] for doc in documents])\n",
    "\n",
    "data_bigrams = make_bigrams(data_words)\n",
    "data_bigrams_trigrams = make_trigrams(data_bigrams)"
   ]
  },
  {
   "cell_type": "markdown",
   "id": "ab97923f",
   "metadata": {},
   "source": [
    "### tf-idf removal"
   ]
  },
  {
   "cell_type": "code",
   "execution_count": 11,
   "id": "3f9e58be",
   "metadata": {},
   "outputs": [],
   "source": [
    "from gensim.models import TfidfModel\n",
    "\n",
    "id2word = corpora.Dictionary(data_bigrams_trigrams)\n",
    "\n",
    "texts = data_bigrams_trigrams\n",
    "\n",
    "corpus = [id2word.doc2bow(text) for text in texts]"
   ]
  },
  {
   "cell_type": "code",
   "execution_count": 12,
   "id": "37cf99ce",
   "metadata": {},
   "outputs": [],
   "source": [
    "tfidf = TfidfModel(corpus, id2word=id2word)\n",
    "\n",
    "low_value = 0.03\n",
    "words = []\n",
    "words_missing_in_tfidf = []\n",
    "\n",
    "for i in range(0, len(corpus)):\n",
    "    bow = corpus[i]\n",
    "    low_value_words = []\n",
    "    tfidf_ids = [id for id, value in tfidf[bow]]\n",
    "    bow_ids = [id for id, value in bow]\n",
    "    low_value_words = [id for id, value in tfidf[bow] if value < low_value]\n",
    "    drops = low_value_words+words_missing_in_tfidf\n",
    "    for item in drops:\n",
    "        words.append(id2word[item])\n",
    "    words_missing_in_tfidf = [id for id in bow_ids if id not in tfidf_ids]\n",
    "    \n",
    "    new_bow = [b for b in bow if b[0] not in low_value_words and b[0] not in words_missing_in_tfidf]\n",
    "    corpus[i] = new_bow"
   ]
  },
  {
   "cell_type": "code",
   "execution_count": null,
   "id": "7072fc44",
   "metadata": {},
   "outputs": [],
   "source": [
    "lda_model = gensim.models.ldamodel.LdaModel(corpus=corpus,\n",
    "                                           id2word=id2word,\n",
    "                                           num_topics=3,\n",
    "                                           random_state=100,\n",
    "                                           update_every=1,\n",
    "                                           chunksize=100,\n",
    "                                           passes=10,\n",
    "                                           alpha=\"auto\")"
   ]
  },
  {
   "cell_type": "code",
   "execution_count": null,
   "id": "c52b16cd",
   "metadata": {},
   "outputs": [],
   "source": [
    "pyLDAvis.enable_notebook()\n",
    "vis = pyLDAvis.gensim_models.prepare(lda_model, corpus, id2word, mds=\"mmds\", R=30)\n",
    "pyLDAvis.save_html(vis, 'models-genre/rock.html')\n",
    "vis\n"
   ]
  }
 ],
 "metadata": {
  "kernelspec": {
   "display_name": "Python [conda env:lyrics_analysis]",
   "language": "python",
   "name": "conda-env-lyrics_analysis-py"
  },
  "language_info": {
   "codemirror_mode": {
    "name": "ipython",
    "version": 3
   },
   "file_extension": ".py",
   "mimetype": "text/x-python",
   "name": "python",
   "nbconvert_exporter": "python",
   "pygments_lexer": "ipython3",
   "version": "3.9.15"
  }
 },
 "nbformat": 4,
 "nbformat_minor": 5
}
